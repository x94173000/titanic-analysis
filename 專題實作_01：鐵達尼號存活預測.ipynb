{
  "nbformat": 4,
  "nbformat_minor": 0,
  "metadata": {
    "colab": {
      "provenance": [],
      "authorship_tag": "ABX9TyPhhE0bLjtzzHi9COJA+GT0",
      "include_colab_link": true
    },
    "kernelspec": {
      "name": "python3",
      "display_name": "Python 3"
    },
    "language_info": {
      "name": "python"
    }
  },
  "cells": [
    {
      "cell_type": "markdown",
      "metadata": {
        "id": "view-in-github",
        "colab_type": "text"
      },
      "source": [
        "<a href=\"https://colab.research.google.com/github/x94173000/titanic-analysis/blob/main/%E5%B0%88%E9%A1%8C%E5%AF%A6%E4%BD%9C_01%EF%BC%9A%E9%90%B5%E9%81%94%E5%B0%BC%E8%99%9F%E5%AD%98%E6%B4%BB%E9%A0%90%E6%B8%AC.ipynb\" target=\"_parent\"><img src=\"https://colab.research.google.com/assets/colab-badge.svg\" alt=\"Open In Colab\"/></a>"
      ]
    },
    {
      "cell_type": "markdown",
      "source": [
        "# 專題實作#01：鐵達尼號存活預測"
      ],
      "metadata": {
        "id": "ZBGjQ09Gfba3"
      }
    },
    {
      "cell_type": "markdown",
      "source": [
        "# 環境準備"
      ],
      "metadata": {
        "id": "K3ICoC8Pfhup"
      }
    },
    {
      "cell_type": "code",
      "execution_count": null,
      "metadata": {
        "id": "1hhvGn98fNtN"
      },
      "outputs": [],
      "source": [
        "import pandas as pd\n",
        "import numpy as np\n",
        "import matplotlib.pyplot as plt"
      ]
    },
    {
      "cell_type": "markdown",
      "source": [
        "**讀取資料**"
      ],
      "metadata": {
        "id": "R0XP7ywqfjmJ"
      }
    },
    {
      "cell_type": "code",
      "source": [
        "ur1 = 'https://raw.githubusercontent.com/x94173000/titanic-analysis/main/train.csv'\n",
        "df = pd.read_csv(ur1)"
      ],
      "metadata": {
        "id": "w1klA9l_fmhq"
      },
      "execution_count": null,
      "outputs": []
    },
    {
      "cell_type": "markdown",
      "source": [
        "2. 請根據 Kaggle 文件瞭解 Titanic 資料中所有欄位的定義為何？\n",
        "\n",
        "survival:存活與否\n",
        "\n",
        "pclass:乘客的艙等，分為一至三等艙\n",
        "\n",
        "sex:性別\n",
        "\n",
        "Age:年齡\n",
        "\n",
        "sibsp:手足/配偶人數\n",
        "\n",
        "parch:父母/小孩人數\n",
        "\n",
        "ticket:乘客船票編號\n",
        "\n",
        "fare:乘客支付票價\n",
        "\n",
        "cabin:客艙號碼\n",
        "\n",
        "embarked:登船的港口，C = Cherbourg, Q = Queenstown, S = Southampton"
      ],
      "metadata": {
        "id": "KzPwKCyI8Yp3"
      }
    },
    {
      "cell_type": "markdown",
      "source": [
        "3. 進一步觀察每一個欄位「數值欄位/類別欄位」與「是否生存欄位」之關係程度，找出關係大的欄位。\n",
        "（Hint: 可以利用視覺化圖表、 correlation、feature importance 等方法）"
      ],
      "metadata": {
        "id": "RtIaXJoqxbNB"
      }
    },
    {
      "cell_type": "code",
      "source": [
        "#移除缺失值等不需要的資料\n",
        "df = df.dropna()"
      ],
      "metadata": {
        "id": "6CBVaOlCUp12"
      },
      "execution_count": null,
      "outputs": []
    },
    {
      "cell_type": "code",
      "source": [
        "# 移除不需要的欄位\n",
        "df = df.drop(['Name', 'Ticket', 'Cabin'], axis=1)"
      ],
      "metadata": {
        "id": "3jDo1l8V4i9z"
      },
      "execution_count": null,
      "outputs": []
    },
    {
      "cell_type": "code",
      "source": [
        "# 使用One-Hot Encoding進行編碼\n",
        "df_encoded = pd.get_dummies(df, columns=['Sex', 'Embarked'])"
      ],
      "metadata": {
        "id": "NsXwwe7Z4kgb"
      },
      "execution_count": null,
      "outputs": []
    }
  ]
}